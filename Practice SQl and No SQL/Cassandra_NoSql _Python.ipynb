{
 "cells": [
  {
   "cell_type": "code",
   "execution_count": null,
   "id": "451daa13",
   "metadata": {},
   "outputs": [],
   "source": [
    "# CASSANDRA DataStax - via cloud online "
   ]
  },
  {
   "cell_type": "code",
   "execution_count": 7,
   "id": "ac9181af",
   "metadata": {
    "scrolled": true
   },
   "outputs": [
    {
     "name": "stdout",
     "output_type": "stream",
     "text": [
      "Requirement already satisfied: cassandra-driver in f:\\installed_softwares\\anaconda\\lib\\site-packages (3.25.0)Note: you may need to restart the kernel to use updated packages.\n",
      "\n",
      "Requirement already satisfied: geomet<0.3,>=0.1 in f:\\installed_softwares\\anaconda\\lib\\site-packages (from cassandra-driver) (0.2.1.post1)\n",
      "Requirement already satisfied: six>=1.9 in c:\\users\\mailt\\appdata\\roaming\\python\\python39\\site-packages (from cassandra-driver) (1.15.0)\n",
      "Requirement already satisfied: click in f:\\installed_softwares\\anaconda\\lib\\site-packages (from geomet<0.3,>=0.1->cassandra-driver) (8.0.4)\n",
      "Requirement already satisfied: colorama in c:\\users\\mailt\\appdata\\roaming\\python\\python39\\site-packages (from click->geomet<0.3,>=0.1->cassandra-driver) (0.4.4)\n"
     ]
    }
   ],
   "source": [
    "pip install cassandra-driver"
   ]
  },
  {
   "cell_type": "code",
   "execution_count": 3,
   "id": "e253c3a2",
   "metadata": {},
   "outputs": [],
   "source": [
    "from cassandra.cluster import Cluster\n",
    "from cassandra.auth import PlainTextAuthProvider"
   ]
  },
  {
   "cell_type": "code",
   "execution_count": 8,
   "id": "dbc0da85",
   "metadata": {},
   "outputs": [
    {
     "name": "stdout",
     "output_type": "stream",
     "text": [
      "4.0.0.6816\n"
     ]
    }
   ],
   "source": [
    "cloud_config= {\n",
    "        'secure_connect_bundle': 'Cassandra_DataStax_secure-connect-test-demo.zip'\n",
    "}\n",
    "auth_provider = PlainTextAuthProvider('moBPBKpsUCnKbZEzfYyeoRPq', 'riD,6XpvDR0+r6QCRPvUpi3dqRNj7ufd0fOfD5qGSr3kYBzFcZJLh+4Q0I+o5DZ3Bjb1rw2kExM,YiIWUz5eH.aWnBpYWCDOHTvPF-4Gg9bo0o1axaeDMxOeSGug71PC')\n",
    "cluster = Cluster(cloud=cloud_config, auth_provider=auth_provider)\n",
    "session = cluster.connect('demo')\n",
    "\n",
    "row = session.execute(\"select release_version from system.local\").one()\n",
    "if row:\n",
    "    print(row[0])\n",
    "else:\n",
    "    print(\"An error occurred.\")"
   ]
  },
  {
   "cell_type": "code",
   "execution_count": 9,
   "id": "bc975b26",
   "metadata": {},
   "outputs": [
    {
     "data": {
      "text/plain": [
       "<cassandra.cluster.ResultSet at 0x1ba712ef3d0>"
      ]
     },
     "execution_count": 9,
     "metadata": {},
     "output_type": "execute_result"
    }
   ],
   "source": [
    "session.execute('create table employee(emp_id int , name text ,age int , salary int,primary key(emp_id))')"
   ]
  },
  {
   "cell_type": "code",
   "execution_count": 10,
   "id": "b2c06db3",
   "metadata": {
    "scrolled": false
   },
   "outputs": [
    {
     "data": {
      "text/plain": [
       "<cassandra.cluster.ResultSet at 0x1ba71293280>"
      ]
     },
     "execution_count": 10,
     "metadata": {},
     "output_type": "execute_result"
    }
   ],
   "source": [
    "session.execute(\"insert into employee ( emp_id , name , age , salary) values (3,'sudh' , 30  , 234)\")"
   ]
  },
  {
   "cell_type": "code",
   "execution_count": 20,
   "id": "a89321aa",
   "metadata": {},
   "outputs": [
    {
     "data": {
      "text/plain": [
       "<cassandra.cluster.ResultSet at 0x1ba7123b700>"
      ]
     },
     "execution_count": 20,
     "metadata": {},
     "output_type": "execute_result"
    }
   ],
   "source": [
    "session.execute(\"insert into employee (emp_id,name,age,salary) values (1,'manas',36,23000)\")"
   ]
  },
  {
   "cell_type": "code",
   "execution_count": 21,
   "id": "fe79479a",
   "metadata": {},
   "outputs": [
    {
     "data": {
      "text/plain": [
       "<cassandra.cluster.ResultSet at 0x1ba6f761880>"
      ]
     },
     "execution_count": 21,
     "metadata": {},
     "output_type": "execute_result"
    }
   ],
   "source": [
    "session.execute(\"insert into employee ( emp_id , name , age , salary) values (5,'sudh' , 30  , 234)\")"
   ]
  },
  {
   "cell_type": "code",
   "execution_count": 22,
   "id": "0d03c85b",
   "metadata": {},
   "outputs": [
    {
     "data": {
      "text/plain": [
       "<cassandra.cluster.ResultSet at 0x1ba6dfe22b0>"
      ]
     },
     "execution_count": 22,
     "metadata": {},
     "output_type": "execute_result"
    }
   ],
   "source": [
    "session.execute(\"insert into employee ( emp_id , name , age , salary) values (8,'sudh' , 30  , 234)\")"
   ]
  },
  {
   "cell_type": "code",
   "execution_count": 23,
   "id": "baf76896",
   "metadata": {
    "scrolled": true
   },
   "outputs": [
    {
     "name": "stdout",
     "output_type": "stream",
     "text": [
      "Row(emp_id=5, age=30, name='sudh', salary=234)\n",
      "Row(emp_id=1, age=36, name='manas', salary=23000)\n",
      "Row(emp_id=8, age=30, name='sudh', salary=234)\n",
      "Row(emp_id=3, age=30, name='sudh', salary=234)\n"
     ]
    }
   ],
   "source": [
    "for i in session.execute(\"select * from employee\"):\n",
    "    print(i)"
   ]
  },
  {
   "cell_type": "code",
   "execution_count": 24,
   "id": "e07df75d",
   "metadata": {},
   "outputs": [
    {
     "name": "stdout",
     "output_type": "stream",
     "text": [
      "Row(emp_id=1, age=36, name='manas', salary=23000)\n"
     ]
    }
   ],
   "source": [
    "for i in session.execute('select * from employee where emp_id = 1') : \n",
    "    print(i)"
   ]
  },
  {
   "cell_type": "code",
   "execution_count": 25,
   "id": "9f33e5b5",
   "metadata": {},
   "outputs": [
    {
     "name": "stdout",
     "output_type": "stream",
     "text": [
      "Row(count=4)\n"
     ]
    }
   ],
   "source": [
    "for i in session.execute('select count(*) from employee ') : \n",
    "    print(i)"
   ]
  },
  {
   "cell_type": "code",
   "execution_count": 26,
   "id": "b549cfc8",
   "metadata": {},
   "outputs": [
    {
     "name": "stdout",
     "output_type": "stream",
     "text": [
      "Row(system_min_salary=234)\n"
     ]
    }
   ],
   "source": [
    "for i in session.execute('select min(salary) from employee ') : \n",
    "    print(i)"
   ]
  },
  {
   "cell_type": "code",
   "execution_count": 27,
   "id": "72ff5a26",
   "metadata": {},
   "outputs": [
    {
     "name": "stdout",
     "output_type": "stream",
     "text": [
      "Row(system_max_salary=23000)\n"
     ]
    }
   ],
   "source": [
    "for i in session.execute('select max(salary) from employee ') : \n",
    "    print(i)"
   ]
  },
  {
   "cell_type": "code",
   "execution_count": 28,
   "id": "5a102d53",
   "metadata": {},
   "outputs": [
    {
     "name": "stdout",
     "output_type": "stream",
     "text": [
      "Row(system_avg_salary=5925)\n"
     ]
    }
   ],
   "source": [
    "for i in session.execute('select avg(salary) from employee ') : \n",
    "    print(i)"
   ]
  },
  {
   "cell_type": "code",
   "execution_count": 29,
   "id": "c94d931c",
   "metadata": {},
   "outputs": [
    {
     "name": "stdout",
     "output_type": "stream",
     "text": [
      "Row(system_sum_salary=23702)\n"
     ]
    }
   ],
   "source": [
    "for i in session.execute('select sum(salary) from employee ') : \n",
    "    print(i)"
   ]
  },
  {
   "cell_type": "code",
   "execution_count": 30,
   "id": "5221da3c",
   "metadata": {},
   "outputs": [
    {
     "name": "stdout",
     "output_type": "stream",
     "text": [
      "Row(emp_id=1, age=36, name='manas', salary=23000)\n",
      "Row(emp_id=3, age=30, name='sudh', salary=234)\n",
      "Row(emp_id=5, age=30, name='sudh', salary=234)\n"
     ]
    }
   ],
   "source": [
    "for i in session.execute('select * from employee where emp_id in (1,2,3,4,5)') : \n",
    "    print(i)"
   ]
  }
 ],
 "metadata": {
  "kernelspec": {
   "display_name": "Python 3 (ipykernel)",
   "language": "python",
   "name": "python3"
  },
  "language_info": {
   "codemirror_mode": {
    "name": "ipython",
    "version": 3
   },
   "file_extension": ".py",
   "mimetype": "text/x-python",
   "name": "python",
   "nbconvert_exporter": "python",
   "pygments_lexer": "ipython3",
   "version": "3.9.7"
  }
 },
 "nbformat": 4,
 "nbformat_minor": 5
}
